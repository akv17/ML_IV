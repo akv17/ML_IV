{
 "cells": [
  {
   "cell_type": "markdown",
   "metadata": {},
   "source": [
    "# Assignment 5\n",
    "\n",
    "Explore embeddings and CNN\n",
    "\n",
    "Using tweeter dataset ( https://www.kaggle.com/utathya/sentiment-analysis-of-imdb-reviews/data) and already existing splitting on train/test sets, develop a model for sentiment analysis.  \n",
    "Your quality metric is crossentropy (`sklearn.metrics.log_loss`, `torch.nn.CrossEntropy`)  \n",
    "\n",
    "Your model should be based on CNN and written in pytorch `torch.nn.Conv1d`.\n",
    "\n",
    "Explore 3 ways, which of them has better perfomance on test set?:\n",
    "1. Using pretrained word embeddings with frozen weights. `torch.nn.Embedding.from_pretrained(embed_matrix, frozen=True)`.\n",
    "You can download any pretrained embeddings you like.\n",
    "2. Train embeddings yourself, initializing from pretrained weights. `torch.nn.Embedding.from_pretrained(embed_matrix, frozen=False)`\n",
    "3. Train embeddings yourself with random initialization `torch.nn.init.uniform_(nn.Embeddings.weights)`\n",
    "\n",
    "Experiment with model arhitecture (as bonus):\n",
    "1. activation functions RELU, ELU, etc `torch.nn.functional.relu, torch.nn.functional.elu`  \n",
    "1. Stack layers\n",
    "1. max or average pooling (`torch.nn.functional.max_pool1d, torch.nn.functional.avg_pool1d`)\n",
    "1. Dropout\n",
    "\n",
    "\n",
    "Other requirements:\n",
    "1. Your training routine should use any learning scheduler (torch.nn.optim.lr_scheduler).  \n",
    "Plot current learning rate against number of epochs, e.g. `tt.optim.Adam.param_groups[0]['lr']`.  \n",
    "\n",
    "1. Your training routine should use early stopping on validation dataset\n",
    "Use hold out validation scheme in your experiments.\n",
    "\n",
    "1. You should use torchtext for parsing \n",
    "\n",
    "**Note**:\n",
    "This assignment has no baseline. Instead, **validation curves** for explored architectures are expected.  \n",
    "Validation curve is plot of model test score against model hyperparameter value.  \n",
    "example (https://scikit-learn.org/stable/auto_examples/model_selection/plot_validation_curve.html) . \n",
    "Though, using `sklearn.model_selection.validation_curve` is not necessary.  \n",
    "\n",
    "\n",
    "\n",
    "\n"
   ]
  },
  {
   "cell_type": "code",
   "execution_count": 175,
   "metadata": {},
   "outputs": [],
   "source": [
    "import re\n",
    "from time import time\n",
    "\n",
    "import numpy as np\n",
    "import pandas as pd\n",
    "from tqdm import tqdm_notebook\n",
    "import torch as tt\n",
    "from nltk.tokenize import word_tokenize\n",
    "from nltk.corpus import stopwords\n",
    "from torchtext.data import Field, LabelField, TabularDataset, Iterator \n",
    "from sklearn.metrics import log_loss\n",
    "\n",
    "import matplotlib.pyplot as plt\n",
    "%matplotlib inline"
   ]
  },
  {
   "cell_type": "markdown",
   "metadata": {},
   "source": [
    "Загрузка данных  "
   ]
  },
  {
   "cell_type": "code",
   "execution_count": 3,
   "metadata": {},
   "outputs": [],
   "source": [
    "STOPWORDS = stopwords.words('english')"
   ]
  },
  {
   "cell_type": "code",
   "execution_count": 3,
   "metadata": {},
   "outputs": [],
   "source": [
    "df_master = pd.read_csv(\"imdb_master.csv\", encoding='latin-1', index_col=0)\n",
    "\n",
    "imdb_train = df_master[[\"review\", \"label\"]][df_master.type.isin(['train'])].reset_index(drop=True)\n",
    "imdb_test = df_master[[\"review\", \"label\"]][df_master.type.isin(['test'])].reset_index(drop=True)"
   ]
  },
  {
   "cell_type": "markdown",
   "metadata": {},
   "source": [
    "Я решил удалить объекты с меткой unsup, т.к. в тестовом подмножестве объектов с этой меткой нет"
   ]
  },
  {
   "cell_type": "code",
   "execution_count": 4,
   "metadata": {},
   "outputs": [],
   "source": [
    "imdb_train = imdb_train[imdb_train.label != 'unsup']"
   ]
  },
  {
   "cell_type": "code",
   "execution_count": 7,
   "metadata": {},
   "outputs": [
    {
     "data": {
      "text/plain": [
       "((25000, 2), (25000, 2))"
      ]
     },
     "execution_count": 7,
     "metadata": {},
     "output_type": "execute_result"
    }
   ],
   "source": [
    "imdb_train.shape, imdb_test.shape"
   ]
  },
  {
   "cell_type": "code",
   "execution_count": 5,
   "metadata": {},
   "outputs": [],
   "source": [
    "imdb_train.to_csv('imdb_train.csv', index=False)\n",
    "imdb_test.to_csv('imdb_test.csv', index=False)"
   ]
  },
  {
   "cell_type": "code",
   "execution_count": null,
   "metadata": {},
   "outputs": [],
   "source": []
  },
  {
   "cell_type": "code",
   "execution_count": null,
   "metadata": {},
   "outputs": [],
   "source": []
  },
  {
   "cell_type": "markdown",
   "metadata": {},
   "source": [
    "Подготовка данных с помощью `torchtext`"
   ]
  },
  {
   "cell_type": "code",
   "execution_count": 4,
   "metadata": {},
   "outputs": [],
   "source": [
    "def tokenizer(x):\n",
    "    tokens = []\n",
    "    \n",
    "    for w in x.split():\n",
    "        token = re.sub('^[\\W]*|[\\W]*$', '', w)\n",
    "        \n",
    "        if token:\n",
    "            tokens.append(token)\n",
    "            \n",
    "    return tokens\n"
   ]
  },
  {
   "cell_type": "markdown",
   "metadata": {},
   "source": [
    "Возьмем в качестве фиксированной длины для всех предложений медиану длин по train подмножеству"
   ]
  },
  {
   "cell_type": "code",
   "execution_count": 9,
   "metadata": {},
   "outputs": [
    {
     "data": {
      "text/plain": [
       "174.0"
      ]
     },
     "execution_count": 9,
     "metadata": {},
     "output_type": "execute_result"
    }
   ],
   "source": [
    "np.median([len(tokenizer(x)) for x in imdb_train.review.values])"
   ]
  },
  {
   "cell_type": "code",
   "execution_count": 118,
   "metadata": {},
   "outputs": [],
   "source": [
    "classes={\n",
    "    'neg': 0,\n",
    "    'pos': 1\n",
    "}\n",
    "\n",
    "TEXT = Field(\n",
    "    sequential=True,\n",
    "    fix_length=175,\n",
    "    pad_first=False,\n",
    "    batch_first=True, \n",
    "    eos_token='<eos>',\n",
    "    lower=True,\n",
    "    stop_words=STOPWORDS\n",
    ")\n",
    "\n",
    "TRAIN_LABEL = LabelField(dtype=tt.int64, use_vocab=True, preprocessing=lambda x: classes[x])\n",
    "TEST_LABEL = LabelField(dtype=tt.int64, use_vocab=True, preprocessing=lambda x: classes[x])\n",
    "\n",
    "\n",
    "train_dataset = TabularDataset(\n",
    "    'imdb_train.csv',\n",
    "     format='csv', \n",
    "     fields=[('review', TEXT), ('label', TRAIN_LABEL)], \n",
    "     skip_header=True\n",
    ")\n",
    "\n",
    "\n",
    "test_dataset = TabularDataset(\n",
    "    'imdb_test.csv',\n",
    "     format='csv', \n",
    "     fields=[('review', TEXT), ('label', TEST_LABEL)], \n",
    "     skip_header=True\n",
    ")"
   ]
  },
  {
   "cell_type": "code",
   "execution_count": 119,
   "metadata": {},
   "outputs": [],
   "source": [
    "TEXT.build_vocab(train_dataset, min_freq=5, vectors='glove.6B.100d')"
   ]
  },
  {
   "cell_type": "code",
   "execution_count": 120,
   "metadata": {},
   "outputs": [],
   "source": [
    "VECTORS = TEXT.vocab.vectors"
   ]
  },
  {
   "cell_type": "code",
   "execution_count": 121,
   "metadata": {},
   "outputs": [],
   "source": [
    "TRAIN_LABEL.build_vocab(train_dataset)\n",
    "TEST_LABEL.build_vocab(test_dataset)"
   ]
  },
  {
   "cell_type": "code",
   "execution_count": null,
   "metadata": {},
   "outputs": [],
   "source": []
  },
  {
   "cell_type": "code",
   "execution_count": null,
   "metadata": {},
   "outputs": [],
   "source": []
  },
  {
   "cell_type": "markdown",
   "metadata": {},
   "source": [
    "NN функционал"
   ]
  },
  {
   "cell_type": "markdown",
   "metadata": {},
   "source": [
    "Предварительно немного поэкспериментировав, стало видно, что модели очень быстро и сильно оверфитятся, что, впрочем, ожидаемо, учитывая соотношение кол-ва объектов в обуч. выборке и параметров в архитектурах с выучиванием / тюнингом эмбеддингов.  \n",
    "Поэтому я решил использовать дропаут и пулинг-слой вне рамок бонусного пункта, а для регуляризации (дропаут) и хоть и небольшого, но уменьшения числа параметров моделей (глобал макс. пулинг).  \n",
    "В итоге для всех дальнейших экспериментов я использовал фиксированную архитектуру с одним сверточным слоем, следующим за ним дропаутом и глобальным макс. пулингом."
   ]
  },
  {
   "cell_type": "code",
   "execution_count": 166,
   "metadata": {},
   "outputs": [],
   "source": [
    "class CNN(tt.nn.Module):\n",
    "        \n",
    "    def __init__(\n",
    "        self,\n",
    "        vocab_size,\n",
    "        seq_len,\n",
    "        embedding_size,\n",
    "        n_filters,\n",
    "        kernel_size,\n",
    "        stride=1,\n",
    "        vectors=None,\n",
    "        freeze_embeddings=True,\n",
    "    ):\n",
    "        super(CNN, self).__init__()\n",
    "        \n",
    "        self.vocab_size = vocab_size\n",
    "        self.seq_len = seq_len\n",
    "        self.embedding_size = embedding_size\n",
    "        self.n_filters = n_filters\n",
    "        self.kernel_size = kernel_size\n",
    "        self.stride = stride\n",
    "        self.vectors = vectors\n",
    "        self.freeze_embeddings = freeze_embeddings\n",
    "        \n",
    "        self.conv_dim = (self.seq_len - self.kernel_size) // self.stride + 1\n",
    "        self.flat_size = self.n_filters * self.conv_dim\n",
    "        \n",
    "        if self.vectors is not None:\n",
    "            self.embeddings = tt.nn.Embedding.from_pretrained(self.vectors, freeze=self.freeze_embeddings)\n",
    "            \n",
    "        else:\n",
    "            self.embeddings = tt.nn.Embedding(self.vocab_size, self.embedding_size)\n",
    "            self.embeddings.requires_grad = not self.freeze_embeddings\n",
    "        \n",
    "        self.conv = tt.nn.Conv1d(\n",
    "            in_channels=self.embedding_size,\n",
    "            out_channels=self.n_filters,\n",
    "            kernel_size=self.kernel_size,\n",
    "            stride=self.stride,\n",
    "            padding=0\n",
    "        )\n",
    "        self.conv_drop = tt.nn.Dropout(0.15)\n",
    "        \n",
    "        self.pool = tt.nn.MaxPool1d(self.conv_dim)\n",
    "        \n",
    "        self.output_layer = tt.nn.Linear(self.n_filters, 2)\n",
    "                \n",
    "    def forward(self, x):\n",
    "        x = self.embeddings(x)\n",
    "        x = x.permute(0, 2, 1)\n",
    "                \n",
    "        x = self.conv(x)\n",
    "        x = tt.nn.functional.relu(x)\n",
    "        x = self.conv_drop(x)\n",
    "        \n",
    "        x = self.pool(x)\n",
    "        x = x.view(-1, self.n_filters)\n",
    "        \n",
    "        x = self.output_layer(x)\n",
    "\n",
    "        return x"
   ]
  },
  {
   "cell_type": "code",
   "execution_count": 158,
   "metadata": {},
   "outputs": [],
   "source": [
    "def train(epochs, model, optimizer, train_iterator, val_iterator, scheduler=None, patience=5):    \n",
    "    lr_history = []\n",
    "    train_losses = []\n",
    "    val_losses = []\n",
    "    min_val_loss = np.inf\n",
    "    n_no_improv_epochs = 0\n",
    "    \n",
    "    criterion = tt.nn.CrossEntropyLoss()\n",
    "    \n",
    "    for epoch in range(epochs):\n",
    "        c_train_losses = []\n",
    "        c_val_losses = []\n",
    "        \n",
    "        st_time = time()\n",
    "        \n",
    "        for batch in train_iterator:\n",
    "            optimizer.zero_grad()\n",
    "            \n",
    "            pred = model.forward(batch.review)\n",
    "            train_loss = criterion(pred, batch.label)\n",
    "            c_train_losses.append(train_loss.item())\n",
    "            \n",
    "            train_loss.backward()\n",
    "            \n",
    "            optimizer.step()\n",
    "        \n",
    "        c_train_loss = np.mean(c_train_losses)\n",
    "        \n",
    "        train_losses.append(c_train_loss)\n",
    "        \n",
    "        with tt.no_grad():\n",
    "            for val_batch in val_iterator:\n",
    "                val_pred = model.forward(val_batch.review)\n",
    "                \n",
    "                val_loss = criterion(val_pred, val_batch.label)\n",
    "                c_val_losses.append(val_loss.item())\n",
    "            \n",
    "            c_val_loss = np.mean(c_val_losses)\n",
    "            val_losses.append(c_val_loss)\n",
    "            \n",
    "        if c_val_loss < min_val_loss:\n",
    "            min_val_loss = c_val_loss\n",
    "            n_no_improv_epochs = 0\n",
    "            \n",
    "        elif n_no_improv_epochs < patience:\n",
    "            n_no_improv_epochs += 1\n",
    "            \n",
    "        else:\n",
    "            print(f'Early stopping at epoch {epoch+1}')\n",
    "            break\n",
    "        \n",
    "        lr_history.append(optimizer.param_groups[0]['lr'])\n",
    "        \n",
    "        if scheduler is not None:\n",
    "            scheduler.step()\n",
    "        \n",
    "        c_time = time() - st_time\n",
    "        \n",
    "        print(f'epoch: {epoch+1} \\t train_loss: {c_train_loss:.4f} \\t val_loss: {c_val_loss:.4f} \\t time: {c_time:.2f} s.')\n",
    "        \n",
    "    return train_losses, val_losses, lr_history\n",
    "        "
   ]
  },
  {
   "cell_type": "code",
   "execution_count": 107,
   "metadata": {},
   "outputs": [],
   "source": [
    "def predict(model, test_iter):\n",
    "    X = list(test_iter)[0]\n",
    "    \n",
    "    with tt.no_grad():\n",
    "        pred = model.forward(X.review)\n",
    "        \n",
    "    pred = tt.nn.functional.softmax(pred, dim=1)\n",
    "    \n",
    "    return X.label.numpy(), pred.numpy()\n",
    "    "
   ]
  },
  {
   "cell_type": "code",
   "execution_count": 108,
   "metadata": {},
   "outputs": [],
   "source": [
    "def get_iterator(\n",
    "    dataset,\n",
    "    batch_size,\n",
    "    train=True, \n",
    "    shuffle=True,\n",
    "    repeat=False\n",
    "):\n",
    "    dataset_iter = Iterator(\n",
    "        dataset,\n",
    "        batch_size=batch_size,\n",
    "        train=train,\n",
    "        shuffle=shuffle,\n",
    "        repeat=repeat,\n",
    "        sort=False\n",
    "    )\n",
    "    \n",
    "    return dataset_iter"
   ]
  },
  {
   "cell_type": "code",
   "execution_count": null,
   "metadata": {},
   "outputs": [],
   "source": [
    "def plot_lr_history(lr_history, title='LR history'):\n",
    "    plt.plot(range(len(lr_history)), lr_history, alpha=0.8)\n",
    "    \n",
    "    plt.xlabel('i-th epoch')\n",
    "    plt.ylabel('Leraning rate')\n",
    "    plt.title(title)\n",
    "    \n",
    "\n",
    "def plot_loss_curves(train_losses, val_losses, title='Loss curves'):\n",
    "    plt.plot(range(len(train_losses)), train_losses, alpha=0.75, label='train loss')\n",
    "    plt.plot(range(len(val_losses)), val_losses, alpha=0.75, label='val loss')\n",
    "    \n",
    "    plt.xlabel('i-th epoch')\n",
    "    plt.ylabel('Loss')\n",
    "    plt.title(title)\n",
    "    \n",
    "    plt.legend()\n",
    "    "
   ]
  },
  {
   "cell_type": "code",
   "execution_count": 122,
   "metadata": {},
   "outputs": [],
   "source": [
    "EPOCHS = 30\n",
    "BATCH_SIZE = 128"
   ]
  },
  {
   "cell_type": "markdown",
   "metadata": {},
   "source": [
    "В качестве валидационных данных возьмем 10% обуч. данных"
   ]
  },
  {
   "cell_type": "code",
   "execution_count": 123,
   "metadata": {},
   "outputs": [],
   "source": [
    "train_split, val_split = train_dataset.split(split_ratio=0.9, stratified=True)"
   ]
  },
  {
   "cell_type": "code",
   "execution_count": 124,
   "metadata": {},
   "outputs": [],
   "source": [
    "train_iter = get_iterator(train_split, BATCH_SIZE)"
   ]
  },
  {
   "cell_type": "code",
   "execution_count": 125,
   "metadata": {},
   "outputs": [],
   "source": [
    "val_iter = get_iterator(val_split, BATCH_SIZE)"
   ]
  },
  {
   "cell_type": "code",
   "execution_count": 126,
   "metadata": {},
   "outputs": [],
   "source": [
    "test_iter = get_iterator(test_dataset, len(test_dataset.examples), train=False)"
   ]
  },
  {
   "cell_type": "code",
   "execution_count": null,
   "metadata": {},
   "outputs": [],
   "source": []
  },
  {
   "cell_type": "code",
   "execution_count": null,
   "metadata": {},
   "outputs": [],
   "source": []
  },
  {
   "cell_type": "markdown",
   "metadata": {},
   "source": [
    "Модель с замороженными GloVe эмбеддингами"
   ]
  },
  {
   "cell_type": "code",
   "execution_count": 180,
   "metadata": {},
   "outputs": [],
   "source": [
    "model_glove_frozen = CNN(\n",
    "    vocab_size=len(TEXT.vocab.itos),\n",
    "    seq_len=175,\n",
    "    embedding_size=100,\n",
    "    n_filters=128,\n",
    "    kernel_size=3,\n",
    "    stride=1,\n",
    "    vectors=VECTORS,\n",
    "    freeze_embeddings=True\n",
    ")"
   ]
  },
  {
   "cell_type": "markdown",
   "metadata": {},
   "source": [
    "В качестве оптимизатора здесь и далее использовался adam.  \n",
    "Стратегия снижения длины шага также едина на все эксперименты - домножение на 0.9 после каждых двух эпох (поверхностно настраивал эти гиперпараметры)"
   ]
  },
  {
   "cell_type": "code",
   "execution_count": 181,
   "metadata": {},
   "outputs": [],
   "source": [
    "optimizer = tt.optim.Adam(model_glove_frozen.parameters())\n",
    "scheduler = tt.optim.lr_scheduler.StepLR(optimizer, 2, gamma=0.9)"
   ]
  },
  {
   "cell_type": "code",
   "execution_count": 182,
   "metadata": {},
   "outputs": [
    {
     "name": "stdout",
     "output_type": "stream",
     "text": [
      "epoch: 1 \t train_loss: 0.5125 \t val_loss: 0.4087 \t time: 25.03 s.\n",
      "epoch: 2 \t train_loss: 0.3834 \t val_loss: 0.3749 \t time: 25.48 s.\n",
      "epoch: 3 \t train_loss: 0.3345 \t val_loss: 0.3585 \t time: 24.36 s.\n",
      "epoch: 4 \t train_loss: 0.2973 \t val_loss: 0.3512 \t time: 24.45 s.\n",
      "epoch: 5 \t train_loss: 0.2694 \t val_loss: 0.3861 \t time: 24.56 s.\n",
      "epoch: 6 \t train_loss: 0.2405 \t val_loss: 0.3500 \t time: 23.62 s.\n",
      "epoch: 7 \t train_loss: 0.2163 \t val_loss: 0.3549 \t time: 23.92 s.\n",
      "epoch: 8 \t train_loss: 0.1920 \t val_loss: 0.3585 \t time: 24.18 s.\n",
      "epoch: 9 \t train_loss: 0.1756 \t val_loss: 0.3551 \t time: 24.40 s.\n",
      "epoch: 10 \t train_loss: 0.1596 \t val_loss: 0.3544 \t time: 24.57 s.\n",
      "epoch: 11 \t train_loss: 0.1450 \t val_loss: 0.3619 \t time: 23.73 s.\n",
      "Early stopping at epoch 12\n",
      "CPU times: user 13min 54s, sys: 11.5 s, total: 14min 6s\n",
      "Wall time: 4min 52s\n"
     ]
    }
   ],
   "source": [
    "%%time\n",
    "train_losses, val_losses, lr_history = train(\n",
    "    EPOCHS,\n",
    "    model_glove_frozen,\n",
    "    optimizer,\n",
    "    train_iter,\n",
    "    val_iter,\n",
    "    scheduler=scheduler\n",
    ")"
   ]
  },
  {
   "cell_type": "markdown",
   "metadata": {},
   "source": [
    "График длины шага в зависимости от номера эпохи"
   ]
  },
  {
   "cell_type": "code",
   "execution_count": 189,
   "metadata": {},
   "outputs": [
    {
     "data": {
      "image/png": "[encoded data removed]",
      "text/plain": [
       "<Figure size 432x288 with 1 Axes>"
      ]
     },
     "metadata": {},
     "output_type": "display_data"
    }
   ],
   "source": [
    "plot_lr_history(lr_history)"
   ]
  },
  {
   "cell_type": "markdown",
   "metadata": {},
   "source": [
    "График значения ф-ии потерь на обуч. и валид. данных в зависимости от номера эпохи"
   ]
  },
  {
   "cell_type": "code",
   "execution_count": 192,
   "metadata": {},
   "outputs": [
    {
     "data": {
      "image/png": "[encoded data removed]",
      "text/plain": [
       "<Figure size 432x288 with 1 Axes>"
      ]
     },
     "metadata": {},
     "output_type": "display_data"
    }
   ],
   "source": [
    "plot_loss_curves(train_losses, val_losses)"
   ]
  },
  {
   "cell_type": "markdown",
   "metadata": {},
   "source": [
    "Модель, доучивающая GloVe эмбеддинги"
   ]
  },
  {
   "cell_type": "code",
   "execution_count": 193,
   "metadata": {},
   "outputs": [],
   "source": [
    "model_glove = CNN(\n",
    "    vocab_size=len(TEXT.vocab.itos),\n",
    "    seq_len=175,\n",
    "    embedding_size=100,\n",
    "    n_filters=128,\n",
    "    kernel_size=3,\n",
    "    stride=1,\n",
    "    vectors=VECTORS,\n",
    "    freeze_embeddings=False\n",
    ")"
   ]
  },
  {
   "cell_type": "code",
   "execution_count": 194,
   "metadata": {},
   "outputs": [],
   "source": [
    "optimizer_glove = tt.optim.Adam(model_glove.parameters())\n",
    "scheduler_glove = tt.optim.lr_scheduler.StepLR(optimizer_glove, 2, gamma=0.9)"
   ]
  },
  {
   "cell_type": "code",
   "execution_count": 195,
   "metadata": {},
   "outputs": [
    {
     "name": "stdout",
     "output_type": "stream",
     "text": [
      "epoch: 1 \t train_loss: 0.4961 \t val_loss: 0.3752 \t time: 45.38 s.\n",
      "epoch: 2 \t train_loss: 0.3070 \t val_loss: 0.3288 \t time: 45.27 s.\n",
      "epoch: 3 \t train_loss: 0.2009 \t val_loss: 0.3094 \t time: 44.90 s.\n",
      "epoch: 4 \t train_loss: 0.1077 \t val_loss: 0.3125 \t time: 44.94 s.\n",
      "epoch: 5 \t train_loss: 0.0507 \t val_loss: 0.3225 \t time: 44.02 s.\n",
      "epoch: 6 \t train_loss: 0.0225 \t val_loss: 0.3544 \t time: 45.83 s.\n",
      "epoch: 7 \t train_loss: 0.0115 \t val_loss: 0.3773 \t time: 44.92 s.\n",
      "epoch: 8 \t train_loss: 0.0066 \t val_loss: 0.3884 \t time: 45.98 s.\n",
      "Early stopping at epoch 9\n",
      "CPU times: user 19min 12s, sys: 17.1 s, total: 19min 30s\n",
      "Wall time: 6min 46s\n"
     ]
    }
   ],
   "source": [
    "%%time\n",
    "train_losses_glove, val_losses_glove, lr_history_glove = train(\n",
    "    EPOCHS,\n",
    "    model_glove,\n",
    "    optimizer_glove,\n",
    "    train_iter,\n",
    "    val_iter,\n",
    "    scheduler=scheduler_glove\n",
    ")"
   ]
  },
  {
   "cell_type": "code",
   "execution_count": 196,
   "metadata": {},
   "outputs": [
    {
     "data": {
      "image/png": "[encoded data removed]",
      "text/plain": [
       "<Figure size 432x288 with 1 Axes>"
      ]
     },
     "metadata": {},
     "output_type": "display_data"
    }
   ],
   "source": [
    "plot_lr_history(lr_history_glove)"
   ]
  },
  {
   "cell_type": "code",
   "execution_count": 197,
   "metadata": {},
   "outputs": [
    {
     "data": {
      "image/png": "[encoded data removed]",
      "text/plain": [
       "<Figure size 432x288 with 1 Axes>"
      ]
     },
     "metadata": {},
     "output_type": "display_data"
    }
   ],
   "source": [
    "plot_loss_curves(train_losses_glove, val_losses_glove)"
   ]
  },
  {
   "cell_type": "markdown",
   "metadata": {},
   "source": [
    "Модель, учащая эмбеддинги с нуля"
   ]
  },
  {
   "cell_type": "code",
   "execution_count": 198,
   "metadata": {},
   "outputs": [],
   "source": [
    "model_learnt = CNN(\n",
    "    vocab_size=len(TEXT.vocab.itos),\n",
    "    seq_len=175,\n",
    "    embedding_size=100,\n",
    "    n_filters=128,\n",
    "    kernel_size=3,\n",
    "    stride=1,\n",
    "    vectors=None,\n",
    "    freeze_embeddings=False\n",
    ")"
   ]
  },
  {
   "cell_type": "code",
   "execution_count": 199,
   "metadata": {},
   "outputs": [],
   "source": [
    "optimizer_learnt = tt.optim.Adam(model_learnt.parameters())\n",
    "scheduler_learnt = tt.optim.lr_scheduler.StepLR(optimizer_learnt, 2, gamma=0.9)"
   ]
  },
  {
   "cell_type": "code",
   "execution_count": 200,
   "metadata": {},
   "outputs": [
    {
     "name": "stdout",
     "output_type": "stream",
     "text": [
      "epoch: 1 \t train_loss: 0.6088 \t val_loss: 0.5067 \t time: 45.68 s.\n",
      "epoch: 2 \t train_loss: 0.4178 \t val_loss: 0.4336 \t time: 45.78 s.\n",
      "epoch: 3 \t train_loss: 0.2985 \t val_loss: 0.4047 \t time: 45.63 s.\n",
      "epoch: 4 \t train_loss: 0.1988 \t val_loss: 0.3854 \t time: 45.46 s.\n",
      "epoch: 5 \t train_loss: 0.1251 \t val_loss: 0.3971 \t time: 47.89 s.\n",
      "epoch: 6 \t train_loss: 0.0756 \t val_loss: 0.3933 \t time: 45.27 s.\n",
      "epoch: 7 \t train_loss: 0.0467 \t val_loss: 0.4336 \t time: 47.01 s.\n",
      "epoch: 8 \t train_loss: 0.0307 \t val_loss: 0.4168 \t time: 45.24 s.\n",
      "epoch: 9 \t train_loss: 0.0219 \t val_loss: 0.4611 \t time: 45.05 s.\n",
      "Early stopping at epoch 10\n",
      "CPU times: user 21min 48s, sys: 19 s, total: 22min 7s\n",
      "Wall time: 7min 40s\n"
     ]
    }
   ],
   "source": [
    "%%time\n",
    "train_losses_learnt, val_losses_learnt, lr_history_learnt = train(\n",
    "    EPOCHS,\n",
    "    model_learnt,\n",
    "    optimizer_learnt,\n",
    "    train_iter,\n",
    "    val_iter,\n",
    "    scheduler=scheduler_learnt\n",
    ")"
   ]
  },
  {
   "cell_type": "code",
   "execution_count": 201,
   "metadata": {},
   "outputs": [
    {
     "data": {
      "image/png": "[encoded data removed]",
      "text/plain": [
       "<Figure size 432x288 with 1 Axes>"
      ]
     },
     "metadata": {},
     "output_type": "display_data"
    }
   ],
   "source": [
    "plot_lr_history(lr_history_learnt)"
   ]
  },
  {
   "cell_type": "code",
   "execution_count": 202,
   "metadata": {},
   "outputs": [
    {
     "data": {
      "image/png": "[encoded data removed]",
      "text/plain": [
       "<Figure size 432x288 with 1 Axes>"
      ]
     },
     "metadata": {},
     "output_type": "display_data"
    }
   ],
   "source": [
    "plot_loss_curves(train_losses_learnt, val_losses_learnt)"
   ]
  },
  {
   "cell_type": "markdown",
   "metadata": {},
   "source": [
    "В целом по логам и графикам всех экспериментов видно, что модели начинают переобучаться приблизительно с 5-ой эпохи, что приводит к раннему \"раннему\" останову.  \n",
    "Как мне кажется, подобное может быть обусловлено недостатком обучающих данных, ведущим к несоизмеримому соотношению между числом объектов на обучении и параметров модели.  \n",
    "С другой стороны, вполне возможно, что и для текущей задачи и идентичных архитектур существует способ добиться более высокого качества."
   ]
  },
  {
   "cell_type": "code",
   "execution_count": null,
   "metadata": {},
   "outputs": [],
   "source": []
  },
  {
   "cell_type": "code",
   "execution_count": null,
   "metadata": {},
   "outputs": [],
   "source": []
  },
  {
   "cell_type": "markdown",
   "metadata": {},
   "source": [
    "Оценим качество моделей на тестовых данных"
   ]
  },
  {
   "cell_type": "code",
   "execution_count": 203,
   "metadata": {},
   "outputs": [],
   "source": [
    "scores = {}\n",
    "\n",
    "for model, model_name in zip([model_glove_frozen, model_glove, model_learnt], ['GloVe frozen', 'GloVe tuned', 'Learnt']):\n",
    "    y_true, y_pred = predict(model_glove_frozen, test_iter)\n",
    "    scores[model_name] = log_loss(y_true, y_pred)"
   ]
  },
  {
   "cell_type": "markdown",
   "metadata": {},
   "source": [
    "Качество полученных моделей на тестовых данных"
   ]
  },
  {
   "cell_type": "code",
   "execution_count": 204,
   "metadata": {},
   "outputs": [
    {
     "data": {
      "text/plain": [
       "{'GloVe frozen': 0.3801131587303763,\n",
       " 'GloVe tuned': 0.3816655073283186,\n",
       " 'Learnt': 0.3771532812326295}"
      ]
     },
     "execution_count": 204,
     "metadata": {},
     "output_type": "execute_result"
    }
   ],
   "source": [
    "scores"
   ]
  },
  {
   "cell_type": "markdown",
   "metadata": {},
   "source": [
    "Качество при случайном гадании"
   ]
  },
  {
   "cell_type": "code",
   "execution_count": 48,
   "metadata": {},
   "outputs": [
    {
     "data": {
      "text/plain": [
       "0.6931471805599453"
      ]
     },
     "execution_count": 48,
     "metadata": {},
     "output_type": "execute_result"
    }
   ],
   "source": [
    "log_loss(y_true, [0.5 for _ in range(25000)])"
   ]
  },
  {
   "cell_type": "markdown",
   "metadata": {},
   "source": [
    "Кривая качества на тестовой выборке в зависимости от гиперпараметра - эмбеддингов"
   ]
  },
  {
   "cell_type": "code",
   "execution_count": 210,
   "metadata": {},
   "outputs": [
    {
     "data": {
      "image/png": "[encoded data removed]",
      "text/plain": [
       "<Figure size 432x288 with 1 Axes>"
      ]
     },
     "metadata": {},
     "output_type": "display_data"
    }
   ],
   "source": [
    "plt.plot(range(len(scores)), [v for k, v in scores.items()])\n",
    "plt.xticks(range(len(scores)), [k for k, v in scores.items()])\n",
    "plt.xlabel('Model')\n",
    "plt.ylabel('Log-loss')\n",
    "plt.title('Architecture val curves');"
   ]
  },
  {
   "cell_type": "markdown",
   "metadata": {},
   "source": [
    "В итоге качество полученных моделей, по сути, идентично с небольшим перевесом выученных с нуля эмбеддингов над pre-trained GloVe"
   ]
  }
 ],
 "metadata": {
  "kernelspec": {
   "display_name": "Python 3",
   "language": "python",
   "name": "python3"
  },
  "language_info": {
   "codemirror_mode": {
    "name": "ipython",
    "version": 3
   },
   "file_extension": ".py",
   "mimetype": "text/x-python",
   "name": "python",
   "nbconvert_exporter": "python",
   "pygments_lexer": "ipython3",
   "version": "3.6.5"
  }
 },
 "nbformat": 4,
 "nbformat_minor": 2
}
