{
 "cells": [
  {
   "cell_type": "markdown",
   "metadata": {},
   "source": [
    "# Assignment 1"
   ]
  },
  {
   "cell_type": "markdown",
   "metadata": {},
   "source": [
    "1. Реализовать Блум фильтр с помощью битового массива.\n",
    "Например, вы можете использовать [Битовые операции](https://wiki.python.org/moin/BitwiseOperators) или библиотеку bitarray.\n",
    "\n",
    "2. Провести численный эксперимент при false postive rate = 0.05, и количестве объектов S = 1 000 000.\n",
    "Убедится, полученные на семинаре оптимальные параметры фильтра позволяют достичь заявленного false positive rate.\n",
    "Посчитать  $\\frac {\\epsilon - \\hat \\epsilon} \\epsilon$, где $\\hat \\epsilon$ - ваша экспериментальная оценка false positive rate. В качестве объектов используйте строки."
   ]
  },
  {
   "cell_type": "code",
   "execution_count": 1,
   "metadata": {
    "collapsed": true
   },
   "outputs": [],
   "source": [
    "from bitarray import bitarray\n",
    "from math import log, ceil\n",
    "from random import randint, choice\n",
    "\n",
    "import matplotlib.pyplot as plt\n",
    "%matplotlib inline"
   ]
  },
  {
   "cell_type": "markdown",
   "metadata": {},
   "source": [
    "Тип, реализующий фильтр Блума с поддержкой автоматического вычисления оптимальных параметров и двойного хэширования и рассчитанный на работу со строками"
   ]
  },
  {
   "cell_type": "code",
   "execution_count": 35,
   "metadata": {
    "collapsed": true
   },
   "outputs": [],
   "source": [
    "class BloomFilter:\n",
    "    \n",
    "    def __init__(self, capacity=1000, fp_rate=0.05, n=None, k=None, dual_hashing=False):\n",
    "        \"\"\"\n",
    "        capacity: num of items to be added\n",
    "        fp_rate: FP rate\n",
    "        n: num of bits (auto-computed if n=None)\n",
    "        k: num of hash functions (auto-computed if k=None)\n",
    "        dual_hashing: bool: dual hash items (slower)\n",
    "        \"\"\"\n",
    "        \n",
    "        self.capacity = capacity\n",
    "        self.fp_rate = fp_rate \n",
    "        \n",
    "        if n is None:\n",
    "            self.n = self.__compute_n(self.capacity, self.fp_rate)\n",
    "            \n",
    "        else:\n",
    "            self.n = n\n",
    "            \n",
    "        if k is None:\n",
    "            self.k = self.__compute_k(self.capacity, self.n)\n",
    "            \n",
    "        else:\n",
    "            self.k = k\n",
    "        \n",
    "        if dual_hashing:\n",
    "            self.__hash_func = lambda _str, x, prime, i: (self.__hash_dual(_str, x, prime) + i) % self.n\n",
    "            \n",
    "        else:\n",
    "            self.__hash_func = lambda _str, x, prime, i: (self.__hash_str(_str, x, prime) + i) % self.n\n",
    "        \n",
    "        self.__arr = bitarray(self.n)\n",
    "        self.__arr.setall(False)\n",
    "        \n",
    "        self.PRIMES = [1291021, 1300711, 2014351, 2601773, 1158263,\n",
    "                       2748973, 3315877, 4107991, 5603791, 8251349\n",
    "                      ]\n",
    "        \n",
    "        self.k_primes = [choice(self.PRIMES) for _ in range(self.k)]\n",
    "        self.k_xs = [randint(1, prime) for prime in self.k_primes]\n",
    "    \n",
    "    def __check_input(self, x):\n",
    "        if not isinstance(x, str):\n",
    "            \n",
    "            try:\n",
    "                x = str(x)\n",
    "                return x\n",
    "            \n",
    "            except:\n",
    "                raise Exception('expecting <str> or convertable to <str>')\n",
    "        \n",
    "        else:\n",
    "            return x\n",
    "    \n",
    "    def __compute_n(self, capacity, fp_rate):\n",
    "        return ceil((1 / log(2)**2) * capacity * log(1 / fp_rate))\n",
    "    \n",
    "    def __compute_k(self, capacity, n):\n",
    "        return ceil((n / capacity) * log(2))\n",
    "    \n",
    "    def __hash_str(self, _str, x, prime):\n",
    "        h = 0\n",
    "        \n",
    "        for i, s in enumerate(_str):\n",
    "            h += ord(s) * x**i\n",
    "        \n",
    "        return h % prime\n",
    "    \n",
    "    def __hash_dual(self, _str, x, prime):\n",
    "        h1 = 0\n",
    "        h2 = ''\n",
    "        \n",
    "        for i, s in enumerate(_str):\n",
    "            h1 += ord(s) * x**i\n",
    "            h2 += str(ord(s))\n",
    "            \n",
    "        return h1 % prime + int(h2)\n",
    "        \n",
    "    \n",
    "    def __hash(self, x):\n",
    "        return [self.__hash_func(x, self.k_xs[i], self.k_primes[i], i) for i in range(self.k)] \n",
    "    \n",
    "    def insert(self, x):\n",
    "        x = self.__check_input(x)\n",
    "        \n",
    "        for bit in self.__hash(x):\n",
    "            self.__arr[bit] = True\n",
    "            \n",
    "    def lookup(self, x):\n",
    "        x = self.__check_input(x)\n",
    "        \n",
    "        for bit in self.__hash(x):\n",
    "            \n",
    "            if not self.__arr[bit]:\n",
    "                return False\n",
    "       \n",
    "        return True"
   ]
  },
  {
   "cell_type": "markdown",
   "metadata": {},
   "source": [
    "Ф-ия для проведения обозначенного эксперимента n-раз (вычисление эмпирического FP на основе вставки |S| элементов и look up проверки  других отличных |S| элементов)"
   ]
  },
  {
   "cell_type": "code",
   "execution_count": 43,
   "metadata": {
    "collapsed": true
   },
   "outputs": [],
   "source": [
    "def test_fp_rate(fp_rate, capacity, rounds=1, plot=True):\n",
    "    \"\"\"\n",
    "    given estimated fr_rate as `fp_rate`\n",
    "    compute observed fp_rate of `rounds` rounds of inserting `capacity` items\n",
    "    then looking up for another `capacity` items\n",
    "    \"\"\"\n",
    "    \n",
    "    symbols = 'abcdefghijklmnopqrstuvwxyz'\n",
    "    fp_rates = list()\n",
    "    fp_diffs = list()\n",
    "    \n",
    "    \n",
    "    for _round in range(rounds):\n",
    "        bf = BloomFilter(capacity=capacity, fp_rate=fp_rate)\n",
    "        n_errors = 0\n",
    "        \n",
    "        strs_to_insert= {''.join([choice(symbols) for _ in range(randint(1, 10))]): True for _ in range(capacity)}\n",
    "        strs_to_lookup = [''.join([choice(symbols) for _ in range(randint(1, 10))]) for _ in range(capacity)]\n",
    "        \n",
    "        for _str_to_insert, _str_to_lookup in zip(strs_to_insert, strs_to_lookup):\n",
    "            bf.insert(_str_to_insert)\n",
    "            assert bf.lookup(_str_to_insert) is True\n",
    "            \n",
    "            if strs_to_insert.get(_str_to_lookup) is None and bf.lookup(_str_to_lookup):\n",
    "                n_errors += 1\n",
    "        \n",
    "        fp_rates.append(n_errors / capacity)\n",
    "        fp_diffs.append((fp_rate - (n_errors / capacity)) / fp_rate)\n",
    "    \n",
    "    if plot:\n",
    "        plt.plot([1, rounds], [fp_rate] * 2, color='r', alpha=0.5, label='expected_fp_rate')\n",
    "        plt.plot(range(1, rounds+1), fp_rates, color='b', alpha=0.5, label='observed_fp_rate')\n",
    "\n",
    "        plt.title('%s rounds of inserting %s items' % (rounds, capacity))\n",
    "        plt.xlabel('Rounds')\n",
    "        plt.ylabel('FP rate')\n",
    "        plt.legend(bbox_to_anchor=(1, 1))\n",
    "    \n",
    "    print('Mean FP rate: %s\\nMean ((eps - eps_hat) / eps) score: %s'\n",
    "          % (sum(fp_rates)/len(fp_rates), sum(fp_diffs)/len(fp_diffs)\n",
    "            )\n",
    "         )"
   ]
  },
  {
   "cell_type": "markdown",
   "metadata": {},
   "source": [
    "Результаты 10-ти кратного повторения эксперимента"
   ]
  },
  {
   "cell_type": "code",
   "execution_count": 44,
   "metadata": {},
   "outputs": [
    {
     "name": "stdout",
     "output_type": "stream",
     "text": [
      "Mean FP rate: 0.015354800000000002\n",
      "Mean ((eps - eps_hat) / eps) score: 0.6929040000000001\n",
      "Wall time: 7min 33s\n"
     ]
    },
    {
     "data": {
      "image/png": "[encoded data removed]",
      "text/plain": [
       "<matplotlib.figure.Figure at 0x2578dec73c8>"
      ]
     },
     "metadata": {},
     "output_type": "display_data"
    }
   ],
   "source": [
    "%%time\n",
    "test_fp_rate(0.05, 10**6, 10)"
   ]
  },
  {
   "cell_type": "markdown",
   "metadata": {
    "collapsed": true
   },
   "source": [
    "Видно, что в каждом эксперименте полученное значение FP было ниже заявленного верхнего порога в 0.05, а его среднее составило 0.01<br>\n",
    "Среднее же $\\frac {\\epsilon - \\hat \\epsilon} \\epsilon$ оценки составило 0.69<br>\n",
    "Итого, экспериментально мы убедились, что полученные на семинаре оптимальные параметры фильтра позволяют добиться заявленного FP и даже лучше"
   ]
  }
 ],
 "metadata": {
  "kernelspec": {
   "display_name": "Python 3",
   "language": "python",
   "name": "python3"
  },
  "language_info": {
   "codemirror_mode": {
    "name": "ipython",
    "version": 3
   },
   "file_extension": ".py",
   "mimetype": "text/x-python",
   "name": "python",
   "nbconvert_exporter": "python",
   "pygments_lexer": "ipython3",
   "version": "3.6.1"
  },
  "widgets": {
   "state": {},
   "version": "1.1.2"
  }
 },
 "nbformat": 4,
 "nbformat_minor": 2
}
