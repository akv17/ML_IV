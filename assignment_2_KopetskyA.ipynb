{
 "cells": [
  {
   "cell_type": "markdown",
   "metadata": {},
   "source": [
    "# Assignment 2"
   ]
  },
  {
   "cell_type": "markdown",
   "metadata": {},
   "source": [
    "Продемонстрировать положение No Free Lunch Theorem. (см материалы семинара)   \n",
    "Качество работы оценивается по accuracy на тестовой выборке согласно пайплайну (см материалы семинара). Метод валидации (если вы его применяете) 5-fold cv.  \n",
    "В выводе для каждой модели указать какие предположения она делает относительно данных. В выводе указать почему модель плохо / хорошо работает на сгенерированной вами выборке. Использовать пространство признаков размерности 2 при классификации и размерности 1 при регрессии. При возможности, нарисовать выборку на графике (цветами обозначить классы).  \n",
    "\n",
    "\n",
    "1. Сгенерировать датасет для задачи бинарной классификации (binary crossentropy), \n",
    "на котором метод ближайших соседей работает хуже, чем логистическая регрессия. \n",
    "\n",
    "2. Сгенерировать датасет для задачи бинарной классификации (binary crossentropy), \n",
    "на котором логистическая регрессия работает хуже, чем метод ближайших соседей.\n",
    "\n",
    "3. Сгенерировать датасет для задачи бинарной классификации (binary crossentropy), \n",
    "на котором метод ближайших соседей с косинусной метрикой расстояния работает лучше, чем с евклидовой метрикой.\n",
    "\n",
    "4. Сгенерировать датасет для задачи регрессии (MSE),\n",
    "на котором решающее дерево работает хуже, чем линейная регрессия. \n"
   ]
  },
  {
   "cell_type": "code",
   "execution_count": 69,
   "metadata": {
    "collapsed": true
   },
   "outputs": [],
   "source": [
    "import numpy as np\n",
    "import matplotlib.pyplot as plt\n",
    "%matplotlib inline\n",
    "\n",
    "from sklearn.linear_model import LinearRegression, LogisticRegression\n",
    "from sklearn.neighbors import KNeighborsClassifier\n",
    "from sklearn.tree import DecisionTreeRegressor\n",
    "from sklearn.metrics import accuracy_score, mean_squared_error\n",
    "from sklearn.model_selection import train_test_split, cross_val_score, KFold"
   ]
  },
  {
   "cell_type": "code",
   "execution_count": 158,
   "metadata": {
    "collapsed": true
   },
   "outputs": [],
   "source": [
    "def linear(x, k, b, noise=0):\n",
    "    return (k * x + b) + np.random.normal(scale=noise)\n",
    "\n",
    "\n",
    "def blob(center, size=5, y_dev=0.5, v_dev=0.5, h_dev=0.5):\n",
    "    center_x, center_y = center\n",
    "    \n",
    "    for _ in range(size):\n",
    "        yield [center_x + np.random.uniform(high=h_dev),\n",
    "               center_y + np.random.uniform(high=v_dev) + np.random.uniform(high=y_dev) \n",
    "              ]\n",
    "\n",
    "        \n",
    "def generate_linear_regression(x_grid=None, noise=0, k=1, b=0):\n",
    "    y_grid = [linear(x, k, b, noise) for x in x_grid]\n",
    "    return np.array(x_grid).reshape(-1, 1), np.array(y_grid)\n",
    "\n",
    "\n",
    "def generate_linear_classification(x_grid=None, noise=0, k1=1, b1=0, k2=1, b2=1):\n",
    "    x_grid = np.array(x_grid)\n",
    "    \n",
    "    X_pos = np.hstack([x_grid.reshape(-1, 1),\n",
    "                       np.array([linear(x, k1, b1, noise) for x in x_grid]).reshape(-1, 1)\n",
    "                      ])\n",
    "    \n",
    "    X_neg = np.hstack([x_grid.reshape(-1, 1),\n",
    "                       np.array([linear(x, k2, b2, noise) for x in x_grid]).reshape(-1, 1)\n",
    "                      ])\n",
    "    \n",
    "    X = np.vstack([X_pos, X_neg])\n",
    "    Y = np.vstack([np.ones(shape=[len(x_grid),]), np.zeros(shape=[len(x_grid),])]).ravel()\n",
    "    return X, Y \n",
    "\n",
    "\n",
    "def generate_blobs_classification(centers, labels, size=10, y_dev=0.5, v_dev=0.5, h_dev=0.5):\n",
    "    X = list()\n",
    "    Y = list()\n",
    "    \n",
    "    for center, label in zip(centers, labels):\n",
    "        for sample in blob(center, size, y_dev, v_dev, h_dev):\n",
    "            X.append(sample)\n",
    "        Y.extend([label] * size)\n",
    "    \n",
    "    return np.array(X), np.array(Y)\n",
    "\n",
    "\n",
    "def run_experiment(models, dataset_generator, dataset_generator_params, metric, n_folds=5, shuffle=True, test_size=0.3):\n",
    "    scores = dict()\n",
    "    X, Y = dataset_generator(**dataset_generator_params)\n",
    "    METRIC_MAP = {'accuracy': accuracy_score, 'neg_mean_squared_error': mean_squared_error}\n",
    "    \n",
    "    if n_folds is not None:\n",
    "        for i, model in enumerate(models):\n",
    "            model_name = '%s.%s' % (i+1, str(model).split('(')[0])\n",
    "            scores[model_name] = abs(cross_val_score(model,\n",
    "                                                     X,\n",
    "                                                     Y,\n",
    "                                                     scoring=metric,\n",
    "                                                     cv=KFold(n_folds, shuffle=shuffle, random_state=17)\n",
    "                                                    ).mean())\n",
    "    else:\n",
    "        X_train, X_test, y_train, y_test = train_test_split(X, Y, test_size=test_size, random_state=17)\n",
    "\n",
    "        for i, model in enumerate(models):\n",
    "            model_name = '%s.%s' % (i+1, str(model).split('(')[0])\n",
    "            model.fit(X_train, y_train)\n",
    "            scores[model_name] = METRIC_MAP[metric](y_test, model.predict(X_test))\n",
    "    \n",
    "    return scores\n",
    "    "
   ]
  },
  {
   "cell_type": "markdown",
   "metadata": {},
   "source": [
    "В целом, кратко, положение No Free Lunch Theorem заключается в том, что для каждой модели должны существовать такие данные, на которых эта модель работает плохо (и какая-либо другая модель -- лучше).  \n",
    "На практике это можно также трактовать следующим образом. Определенным моделям соответствуют определенные классы задач, которые решаются с их помощью хорошо."
   ]
  },
  {
   "cell_type": "markdown",
   "metadata": {},
   "source": [
    "1. Сгенерировать датасет для задачи бинарной классификации (binary crossentropy), на котором метод ближайших соседей работает хуже, чем логистическая регрессия"
   ]
  },
  {
   "cell_type": "markdown",
   "metadata": {},
   "source": [
    "Предположения относительно данных:\n",
    "- KNN: выполнение гипотезы компактности, то есть близкие с содержательной точки зрения объекты должны располагаться в признаковом пространстве, образуя обособленные множества точек\n",
    "- LogReg: выборка должна быть линейно разделимой (или близкой к таковой), то есть признаковое пространство можно разделить гиперплоскостью (в нашем случае - линией) так, что объекты разных классов окажутся по ее разные стороны (в идеале)\n",
    "\n",
    "Данные следует строить так, чтобы они были линейно разделимы (+LogReg) и чтобы евклидово расстояние между объектами разных классов было как можно меньшим (-KNN).\n",
    "\n",
    "Пример таких данных приведен ниже.  \n",
    "Видно, что данные могут быть безошибочно разделены линией (следовательно, безошибочно классифицированы лог. регрессией), а для каждого объекта наиболее близким объектом оказывается объект противоположного класса, что заставляет KNN(1) практически гарантировано ошибаться на любом объекте и делает KNN с произовольным числом соседей непригодным, т.к. для любого объекта в число k ближайших соседей войдет, по сути, одинаковое кол-во объектов обоих классов, превращая таким образом классификацию, скорее, в гадание (в предположении, что используется евклидова метрика)."
   ]
  },
  {
   "cell_type": "code",
   "execution_count": 77,
   "metadata": {},
   "outputs": [
    {
     "data": {
      "text/plain": [
       "<matplotlib.collections.PathCollection at 0x1c5ece4ccc0>"
      ]
     },
     "execution_count": 77,
     "metadata": {},
     "output_type": "execute_result"
    },
    {
     "data": {
      "image/png": "[encoded data removed]",
      "text/plain": [
       "<matplotlib.figure.Figure at 0x1c5e9ce68d0>"
      ]
     },
     "metadata": {},
     "output_type": "display_data"
    }
   ],
   "source": [
    "X, Y = generate_linear_classification(range(0, 20, 2), b2=1)\n",
    "plt.scatter(X[:,0], X[:,1], c=Y, alpha=0.75)"
   ]
  },
  {
   "cell_type": "markdown",
   "metadata": {},
   "source": [
    "Эксперимент на 10000 объектов"
   ]
  },
  {
   "cell_type": "code",
   "execution_count": 75,
   "metadata": {},
   "outputs": [
    {
     "data": {
      "text/plain": [
       "{'1.LogisticRegression': 1.0, '2.KNeighborsClassifier': 0.14694999999999997}"
      ]
     },
     "execution_count": 75,
     "metadata": {},
     "output_type": "execute_result"
    }
   ],
   "source": [
    "run_experiment([LogisticRegression(), KNeighborsClassifier()],\n",
    "               generate_linear_classification,\n",
    "               {'x_grid': range(0, 100000, 10), 'b2': 1},\n",
    "               'accuracy',\n",
    "              )"
   ]
  },
  {
   "cell_type": "markdown",
   "metadata": {},
   "source": [
    "Как видно, классификация с помощью LogReg безошибочна, тогда как KNN много хуже, чем случайное гадание."
   ]
  },
  {
   "cell_type": "markdown",
   "metadata": {},
   "source": [
    "Особенно отчетливо предположение иллюстрируется при использовании KNN(1)."
   ]
  },
  {
   "cell_type": "code",
   "execution_count": 76,
   "metadata": {},
   "outputs": [
    {
     "data": {
      "text/plain": [
       "{'1.LogisticRegression': 1.0, '2.KNeighborsClassifier': 0.0374}"
      ]
     },
     "execution_count": 76,
     "metadata": {},
     "output_type": "execute_result"
    }
   ],
   "source": [
    "run_experiment([LogisticRegression(), KNeighborsClassifier(n_neighbors=1)],\n",
    "               generate_linear_classification,\n",
    "               {'x_grid': range(0, 100000, 10), 'b2': 1},\n",
    "               'accuracy',\n",
    "              )"
   ]
  },
  {
   "cell_type": "markdown",
   "metadata": {},
   "source": [
    "Как и следовало ожидать, KNN с одним соседом ошибается на таких данных практически всегда (очевидно, не ошибается только тогда, когда самый близкий объект к тестовому попал вместе с ним в тестовый фолд)."
   ]
  },
  {
   "cell_type": "code",
   "execution_count": null,
   "metadata": {
    "collapsed": true
   },
   "outputs": [],
   "source": []
  },
  {
   "cell_type": "code",
   "execution_count": null,
   "metadata": {
    "collapsed": true
   },
   "outputs": [],
   "source": []
  },
  {
   "cell_type": "markdown",
   "metadata": {},
   "source": [
    " \n",
    "2 . Сгенерировать датасет для задачи бинарной классификации (binary crossentropy), на котором логистическая регрессия работает хуже, чем метод ближайших соседей."
   ]
  },
  {
   "cell_type": "markdown",
   "metadata": {},
   "source": [
    "Исходя из изложенного выше, следует действовать ровно противоположным образом, нежели в предыдущем пункте:  \n",
    "построим данные так, чтобы объекты одного класса образовывали обособленные облака, удовлетворяя тем самым гипотезе компактности, (+KNN) и эти облака были бы линейно не разделимы между собой (-LogReg).  \n",
    "\n",
    "Такое расположение объектов приведено ниже, и очевидно, что строящая разделяющую гиперплоскоть лог. регрессия никоим образом не сможет сделать это, избежав ошибок, тогда как условие выполнения гипотезы компактности поможет KNN с евклидовой метрикой и подходящим числом соседей действовать безошибочно.  "
   ]
  },
  {
   "cell_type": "code",
   "execution_count": 82,
   "metadata": {},
   "outputs": [
    {
     "data": {
      "text/plain": [
       "<matplotlib.collections.PathCollection at 0x1c5ed435ac8>"
      ]
     },
     "execution_count": 82,
     "metadata": {},
     "output_type": "execute_result"
    },
    {
     "data": {
      "image/png": "[encoded data removed]",
      "text/plain": [
       "<matplotlib.figure.Figure at 0x1c5e9dc1208>"
      ]
     },
     "metadata": {},
     "output_type": "display_data"
    }
   ],
   "source": [
    "X, Y = generate_blobs_classification([(1, 1), (3, 3), (1, 3), (3, 1)], [1, 1, 0, 0], size=25)\n",
    "plt.scatter(X[:,0], X[:,1], c=Y, alpha=0.75)"
   ]
  },
  {
   "cell_type": "markdown",
   "metadata": {},
   "source": [
    "Эксперимент"
   ]
  },
  {
   "cell_type": "code",
   "execution_count": 81,
   "metadata": {},
   "outputs": [
    {
     "data": {
      "text/plain": [
       "{'1.LogisticRegression': 0.5146, '2.KNeighborsClassifier': 1.0}"
      ]
     },
     "execution_count": 81,
     "metadata": {},
     "output_type": "execute_result"
    }
   ],
   "source": [
    "run_experiment([LogisticRegression(), KNeighborsClassifier()],\n",
    "               generate_blobs_classification,\n",
    "               {'centers': [(1, 1), (3, 3), (1, 3), (3, 1)], 'labels': [1, 1, 0, 0], 'size': 10000},\n",
    "               'accuracy'\n",
    "              )"
   ]
  },
  {
   "cell_type": "markdown",
   "metadata": {},
   "source": [
    "Как ожидалось, KNN отработал безошибочно, а полученное качество при использовании LogReg закономерно, т.к. наиболее оптимальным решением данной задачи для этой модели является проведение гиперплоскости посередине горизонтально или вертикально, что очевидно ведет к ошибочной классификации половины объектов."
   ]
  },
  {
   "cell_type": "code",
   "execution_count": null,
   "metadata": {
    "collapsed": true
   },
   "outputs": [],
   "source": []
  },
  {
   "cell_type": "code",
   "execution_count": null,
   "metadata": {
    "collapsed": true
   },
   "outputs": [],
   "source": []
  },
  {
   "cell_type": "markdown",
   "metadata": {},
   "source": [
    "3 . Сгенерировать датасет для задачи бинарной классификации (binary crossentropy), на котором метод ближайших соседей с косинусной метрикой расстояния работает лучше, чем с евклидовой метрикой."
   ]
  },
  {
   "cell_type": "markdown",
   "metadata": {},
   "source": [
    "Упомянутое выше условие выполнения гипотезы компактности имеет смысл в контексте евклидовой метрики, однако при использовании косинусной метрики благоприятными оказываются другие условия, а именно, угол между объектами (точнее говоря, между векторами, описывающими их) одного класса должен быть как можно более меньшим вне зависимости от евклидового расстояния между ними.\n",
    "\n",
    "Однако для вынуждения KNN с евклидовой метрикой работать хуже нам также потребуется строить объекты так, чтобы для каждого из них с точки зрения евклидовой метрики наиболее близким был объект противоположного класса.\n",
    "\n",
    "Тогда нам в точности подойдут данные из первого пункта. "
   ]
  },
  {
   "cell_type": "code",
   "execution_count": 88,
   "metadata": {},
   "outputs": [
    {
     "data": {
      "text/plain": [
       "<matplotlib.collections.PathCollection at 0x1c580049390>"
      ]
     },
     "execution_count": 88,
     "metadata": {},
     "output_type": "execute_result"
    },
    {
     "data": {
      "image/png": "[encoded data removed]",
      "text/plain": [
       "<matplotlib.figure.Figure at 0x1c5ed126f28>"
      ]
     },
     "metadata": {},
     "output_type": "display_data"
    }
   ],
   "source": [
    "X, Y = generate_linear_classification(range(0, 20, 2), b2=1)\n",
    "plt.scatter(X[:,0], X[:,1], c=Y, alpha=0.75)"
   ]
  },
  {
   "cell_type": "code",
   "execution_count": 87,
   "metadata": {},
   "outputs": [
    {
     "data": {
      "text/plain": [
       "{'1.KNeighborsClassifier': 0.9999500000000001,\n",
       " '2.KNeighborsClassifier': 0.14694999999999997}"
      ]
     },
     "execution_count": 87,
     "metadata": {},
     "output_type": "execute_result"
    }
   ],
   "source": [
    "run_experiment([KNeighborsClassifier(metric='cosine'), KNeighborsClassifier()],\n",
    "               generate_linear_classification,\n",
    "               {'x_grid': range(0, 100000, 10), 'b2': 1},\n",
    "               'accuracy',\n",
    "              )"
   ]
  },
  {
   "cell_type": "markdown",
   "metadata": {},
   "source": [
    "*1.KNeighborsClassifier(metric=cosine) : 0.99  \n",
    "2.KNeighborsClassifier(metric=eucl.) : 0.15*"
   ]
  },
  {
   "cell_type": "markdown",
   "metadata": {},
   "source": [
    "Результат предсказуем, т.к. при такой конфигурации данных объекты одного класса образуют линию, следовательно, угол между всеми ними равен нулю, следоваельно, значение косинусной метрики минимально, тогда как уже описанное выше поведение евклидовой метрики на подобных данных не позволяет проводить осмысленную классификацию."
   ]
  },
  {
   "cell_type": "code",
   "execution_count": null,
   "metadata": {
    "collapsed": true
   },
   "outputs": [],
   "source": []
  },
  {
   "cell_type": "code",
   "execution_count": null,
   "metadata": {
    "collapsed": true
   },
   "outputs": [],
   "source": []
  },
  {
   "cell_type": "markdown",
   "metadata": {},
   "source": [
    "4 . Сгенерировать датасет для задачи регрессии (MSE), на котором решающее дерево работает хуже, чем линейная регрессия."
   ]
  },
  {
   "cell_type": "markdown",
   "metadata": {},
   "source": [
    "Предположения относительно данных:\n",
    "- LinReg: зависимость между предикторами и целевой переменной линейна или близка к таковой\n",
    "- DecisionTree: данные можно разделить сколь угодно сложной разделяющей поверхностью, линии которой всегда параллельны осям координат\n",
    "    \n",
    "В подходящих нам данных целевая переменная должна линейно выражаться через единственный признак и свобод. коэф., например, данные могут образовывать линию, находящуюся под углом ко всем осям координат, что позволит линейной регрессии теоретически приблизить зависимость идеально точно или устремить ошибку к бесконечно малому значению, тогда как дерево будет пытаться приблизить зависимость \"лестницей\" из линий, параллельных осям, однако предсказание с помощью такой \"лестницы\" всегда будет в определенной степени не точным."
   ]
  },
  {
   "cell_type": "code",
   "execution_count": 89,
   "metadata": {},
   "outputs": [
    {
     "data": {
      "text/plain": [
       "[<matplotlib.lines.Line2D at 0x1c5ed140358>]"
      ]
     },
     "execution_count": 89,
     "metadata": {},
     "output_type": "execute_result"
    },
    {
     "data": {
      "image/png": "[encoded data removed]",
      "text/plain": [
       "<matplotlib.figure.Figure at 0x1c5ed140278>"
      ]
     },
     "metadata": {},
     "output_type": "display_data"
    }
   ],
   "source": [
    "x_grid = np.linspace(0, 10, 25)\n",
    "X, Y = generate_linear_regression(x_grid)\n",
    "plt.scatter(X, Y, alpha=0.5)\n",
    "plt.plot(x_grid, x_grid, color='r', alpha=0.5)"
   ]
  },
  {
   "cell_type": "code",
   "execution_count": 163,
   "metadata": {},
   "outputs": [
    {
     "data": {
      "text/plain": [
       "{'1.DecisionTreeRegressor': 73.41803287239414,\n",
       " '2.LinearRegression': 3.635071051258422e-29}"
      ]
     },
     "execution_count": 163,
     "metadata": {},
     "output_type": "execute_result"
    }
   ],
   "source": [
    "run_experiment([DecisionTreeRegressor(), LinearRegression()],\n",
    "               generate_linear_regression,\n",
    "               {'x_grid': np.linspace(0, 100, 10000), 'noise': 0},\n",
    "               'neg_mean_squared_error',\n",
    "               shuffle=False\n",
    "              )"
   ]
  },
  {
   "cell_type": "markdown",
   "metadata": {},
   "source": [
    "Очевидна колоссальная разница в качестве и видна ожидаемая бесконечно малая ошибка линейной регресии и невероятно большая в сравнении с последней ошибка решающего дерева.  \n",
    "Также стоит отметить, что построенное решающее дерево, вообще говоря, является сильно переобученым, выделяя для каждого объекта отдельный лист. Тем не менее, на таких данных столь глубокое дерево потенциально должно дать наилучший возможный для данной модели результат, бесконечно приближая линию сложной лестницей.  "
   ]
  },
  {
   "cell_type": "markdown",
   "metadata": {},
   "source": [
    "Более того, решающее дерево работает хуже линейной регрессии и при наличии шума в данных рассматриваемого типа, из чего можно сделать вывод, что наличие линейно подобной зависимости между целевой переменной и предикторами негативно сказывается на качестве работы деревянных моделей. "
   ]
  },
  {
   "cell_type": "code",
   "execution_count": 166,
   "metadata": {},
   "outputs": [
    {
     "data": {
      "text/plain": [
       "[<matplotlib.lines.Line2D at 0x1c58033a940>]"
      ]
     },
     "execution_count": 166,
     "metadata": {},
     "output_type": "execute_result"
    },
    {
     "data": {
      "image/png": "[encoded data removed]",
      "text/plain": [
       "<matplotlib.figure.Figure at 0x1c58033a710>"
      ]
     },
     "metadata": {},
     "output_type": "display_data"
    }
   ],
   "source": [
    "x_grid = np.linspace(0, 10, 25)\n",
    "X, Y = generate_linear_regression(x_grid, noise=2)\n",
    "plt.scatter(X, Y, alpha=0.5)\n",
    "plt.plot(x_grid, x_grid, color='r', alpha=0.5)"
   ]
  },
  {
   "cell_type": "code",
   "execution_count": 167,
   "metadata": {},
   "outputs": [
    {
     "data": {
      "text/plain": [
       "{'1.DecisionTreeRegressor': 96.19275489980409,\n",
       " '2.LinearRegression': 4.007791181672571}"
      ]
     },
     "execution_count": 167,
     "metadata": {},
     "output_type": "execute_result"
    }
   ],
   "source": [
    "run_experiment([DecisionTreeRegressor(), LinearRegression()],\n",
    "               generate_linear_regression,\n",
    "               {'x_grid': np.linspace(0, 100, 10000), 'noise': 2},\n",
    "               'neg_mean_squared_error',\n",
    "               shuffle=False\n",
    "              )"
   ]
  },
  {
   "cell_type": "code",
   "execution_count": null,
   "metadata": {
    "collapsed": true
   },
   "outputs": [],
   "source": []
  },
  {
   "cell_type": "code",
   "execution_count": null,
   "metadata": {
    "collapsed": true
   },
   "outputs": [],
   "source": []
  }
 ],
 "metadata": {
  "kernelspec": {
   "display_name": "Python 3",
   "language": "python",
   "name": "python3"
  },
  "language_info": {
   "codemirror_mode": {
    "name": "ipython",
    "version": 3
   },
   "file_extension": ".py",
   "mimetype": "text/x-python",
   "name": "python",
   "nbconvert_exporter": "python",
   "pygments_lexer": "ipython3",
   "version": "3.6.1"
  },
  "widgets": {
   "state": {},
   "version": "1.1.2"
  }
 },
 "nbformat": 4,
 "nbformat_minor": 2
}
