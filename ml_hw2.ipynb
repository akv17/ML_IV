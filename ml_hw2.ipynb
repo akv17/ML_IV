{
 "cells": [
  {
   "cell_type": "markdown",
   "metadata": {},
   "source": [
    "# Assignment 2"
   ]
  },
  {
   "cell_type": "markdown",
   "metadata": {},
   "source": [
    "Продемонстрировать положение No Free Lunch Theorem. (см материалы семинара)   \n",
    "Качество работы оценивается по accuracy на тестовой выборке согласно пайплайну (см материалы семинара). Метод валидации (если вы его применяете) 5-fold cv.  \n",
    "В выводе для каждой модели указать какие предположения она делает относительно данных. В выводе указать почему модель плохо / хорошо работает на сгенерированной вами выборке. Использовать пространство признаков размерности 2 при классификации и размерности 1 при регрессии. При возможности, нарисовать выборку на графике (цветами обозначить классы).  \n",
    "\n",
    "\n",
    "1. Сгенерировать датасет для задачи бинарной классификации (binary crossentropy), \n",
    "на котором метод ближайших соседей работает хуже, чем логистическая регрессия. \n",
    "\n",
    "2. Сгенерировать датасет для задачи бинарной классификации (binary crossentropy), \n",
    "на котором логистическая регрессия работает хуже, чем метод ближайших соседей.\n",
    "\n",
    "3. Сгенерировать датасет для задачи бинарной классификации (binary crossentropy), \n",
    "на котором метод ближайших соседей с косинусной метрикой расстояния работает лучше, чем с евклидовой метрикой.\n",
    "\n",
    "4. Сгенерировать датасет для задачи регрессии (MSE),\n",
    "на котором решающее дерево работает хуже, чем линейная регрессия. \n"
   ]
  },
  {
   "cell_type": "code",
   "execution_count": 3,
   "metadata": {},
   "outputs": [],
   "source": [
    "import numpy as np\n",
    "import matplotlib.pyplot as plt\n",
    "%matplotlib inline\n",
    "\n",
    "from sklearn.linear_model import LinearRegression, LogisticRegression\n",
    "from sklearn.neighbors import KNeighborsClassifier\n",
    "from sklearn.tree import DecisionTreeRegressor\n",
    "from sklearn.metrics import accuracy_score, mean_squared_error\n",
    "from sklearn.model_selection import train_test_split, cross_val_score"
   ]
  },
  {
   "cell_type": "code",
   "execution_count": null,
   "metadata": {},
   "outputs": [],
   "source": []
  },
  {
   "cell_type": "code",
   "execution_count": 25,
   "metadata": {},
   "outputs": [],
   "source": [
    "def linear(x, k, b, noise=0):\n",
    "    return (k * x + b) + np.random.normal(scale=noise)\n",
    "\n",
    "\n",
    "def blob(center, size=5, y_dev=0.5, v_dev=0.5, h_dev=0.5):\n",
    "    center_x, center_y = center\n",
    "    \n",
    "    for _ in range(size):\n",
    "        yield [center_x + np.random.uniform(high=h_dev),\n",
    "               center_y + np.random.uniform(high=v_dev) + np.random.uniform(high=y_dev) \n",
    "              ]\n",
    "\n",
    "def generate_linear_regression(x_grid=None, noise=0, k=1, b=0):\n",
    "    y_grid = [linear(x, k, b, noise) for x in x_grid]\n",
    "    return np.array(x_grid).reshape(-1, 1), np.array(y_grid)\n",
    "\n",
    "\n",
    "def generate_linear_classification(x_grid=None, noise=0, k1=1, b1=0, k2=1, b2=1):\n",
    "    x_grid = np.array(x_grid)\n",
    "    \n",
    "    X_pos = np.hstack([x_grid.reshape(-1, 1),\n",
    "                       np.array([linear(x, k1, b1, noise) for x in x_grid]).reshape(-1, 1)\n",
    "                      ])\n",
    "    \n",
    "    X_neg = np.hstack([x_grid.reshape(-1, 1),\n",
    "                       np.array([linear(x, k2, b2, noise) for x in x_grid]).reshape(-1, 1)\n",
    "                      ])\n",
    "    \n",
    "    X = np.vstack([X_pos, X_neg])\n",
    "    Y = np.vstack([np.ones(shape=[len(x_grid),]), np.zeros(shape=[len(x_grid),])]).ravel()\n",
    "    return X, Y \n",
    "\n",
    "\n",
    "def generate_blobs_classification(centers, labels, size=10, y_dev=0.5, v_dev=0.5, h_dev=0.5):\n",
    "    X = list()\n",
    "    Y = list()\n",
    "    \n",
    "    for center, label in zip(centers, labels):\n",
    "        for sample in blob(center, size, y_dev, v_dev, h_dev):\n",
    "            X.append(sample)\n",
    "        Y.extend([label] * size)\n",
    "    \n",
    "    return np.array(X), np.array(Y)\n",
    "\n",
    "\n",
    "def run_experiment(models, dataset_generator, dataset_generator_params, metric, n_folds=5, test_size=0.3):\n",
    "    scores = dict()\n",
    "    X, Y = dataset_generator(**dataset_generator_params)\n",
    "    METRIC_MAP = {'accuracy': accuracy_score, 'neg_mean_squared_error': mean_squared_error}\n",
    "    \n",
    "    if n_folds is not None:\n",
    "        for i, model in enumerate(models):\n",
    "            model_name = '%s.%s' % (i+1, str(model).split('(')[0])\n",
    "            scores[model_name] = abs(cross_val_score(model, X, Y, scoring=metric, cv=n_folds).mean())\n",
    "    else:\n",
    "        X_train, X_test, y_train, y_test = train_test_split(X, Y, test_size=test_size)\n",
    "\n",
    "        for i, model in enumerate(models):\n",
    "            model_name = '%s.%s' % (i+1, str(model).split('(')[0])\n",
    "            model.fit(X_train, y_train)\n",
    "            scores[model_name] = METRIC_MAP[metric](y_test, model.predict(X_test))\n",
    "    \n",
    "    return scores\n",
    "    "
   ]
  },
  {
   "cell_type": "markdown",
   "metadata": {},
   "source": [
    "1. Сгенерировать датасет для задачи бинарной классификации (binary crossentropy), на котором метод ближайших соседей работает хуже, чем логистическая регрессия"
   ]
  },
  {
   "cell_type": "code",
   "execution_count": 38,
   "metadata": {},
   "outputs": [
    {
     "data": {
      "text/plain": [
       "<matplotlib.collections.PathCollection at 0x7f9c57b10518>"
      ]
     },
     "execution_count": 38,
     "metadata": {},
     "output_type": "execute_result"
    },
    {
     "data": {
      "image/png": "[encoded data removed]",
      "text/plain": [
       "<Figure size 432x288 with 1 Axes>"
      ]
     },
     "metadata": {},
     "output_type": "display_data"
    }
   ],
   "source": [
    "X, Y = generate_linear_classification(range(0, 20, 2), b2=1)\n",
    "plt.scatter(X[:,0], X[:,1], c=Y, alpha=0.5)"
   ]
  },
  {
   "cell_type": "code",
   "execution_count": 37,
   "metadata": {},
   "outputs": [
    {
     "data": {
      "text/plain": [
       "{'1.LogisticRegression': 1.0, '2.KNeighborsClassifier': 0.8}"
      ]
     },
     "execution_count": 37,
     "metadata": {},
     "output_type": "execute_result"
    }
   ],
   "source": [
    "run_experiment([LogisticRegression(), KNeighborsClassifier()],\n",
    "               generate_linear_classification,\n",
    "               {'x_grid': range(0, 100, 10), 'b2': 1},\n",
    "               'accuracy',\n",
    "              )"
   ]
  },
  {
   "cell_type": "code",
   "execution_count": null,
   "metadata": {},
   "outputs": [],
   "source": []
  },
  {
   "cell_type": "code",
   "execution_count": null,
   "metadata": {},
   "outputs": [],
   "source": []
  },
  {
   "cell_type": "code",
   "execution_count": 15,
   "metadata": {},
   "outputs": [
    {
     "data": {
      "text/plain": [
       "<matplotlib.collections.PathCollection at 0x7f978e5859b0>"
      ]
     },
     "execution_count": 15,
     "metadata": {},
     "output_type": "execute_result"
    },
    {
     "data": {
      "image/png": "[encoded data removed]",
      "text/plain": [
       "<Figure size 432x288 with 1 Axes>"
      ]
     },
     "metadata": {},
     "output_type": "display_data"
    }
   ],
   "source": [
    "X, Y = generate_blobs([(1, 1), (3, 3), (1, 3), (3, 1)], [1, 1, 0, 0], size=25)\n",
    "plt.scatter(X[:,0], X[:,1], c=Y)"
   ]
  },
  {
   "cell_type": "code",
   "execution_count": 19,
   "metadata": {},
   "outputs": [
    {
     "data": {
      "text/plain": [
       "{'1.LogisticRegression': 0.25416666666666665, '2.KNeighborsClassifier': 1.0}"
      ]
     },
     "execution_count": 19,
     "metadata": {},
     "output_type": "execute_result"
    }
   ],
   "source": [
    "run_classification([LogisticRegression(), KNeighborsClassifier()],\n",
    "                   generate_blobs,\n",
    "                   {'centers': [(1, 1), (3, 3), (1, 3), (3, 1)], 'labels': [1, 1, 0, 0], 'size': 1000}\n",
    "                  )"
   ]
  },
  {
   "cell_type": "code",
   "execution_count": null,
   "metadata": {},
   "outputs": [],
   "source": []
  },
  {
   "cell_type": "code",
   "execution_count": null,
   "metadata": {},
   "outputs": [],
   "source": []
  },
  {
   "cell_type": "code",
   "execution_count": null,
   "metadata": {},
   "outputs": [],
   "source": []
  },
  {
   "cell_type": "code",
   "execution_count": null,
   "metadata": {},
   "outputs": [],
   "source": []
  },
  {
   "cell_type": "code",
   "execution_count": 43,
   "metadata": {},
   "outputs": [
    {
     "data": {
      "text/plain": [
       "[<matplotlib.lines.Line2D at 0x7f978d2dba90>]"
      ]
     },
     "execution_count": 43,
     "metadata": {},
     "output_type": "execute_result"
    },
    {
     "data": {
      "image/png": "[encoded data removed]",
      "text/plain": [
       "<Figure size 432x288 with 1 Axes>"
      ]
     },
     "metadata": {},
     "output_type": "display_data"
    }
   ],
   "source": [
    "x_grid = np.linspace(0, 10, 25)\n",
    "X, Y = generate_linear_regression(x_grid, noise=20)\n",
    "plt.scatter(X, Y, alpha=0.5)\n",
    "plt.plot(x_grid, x_grid, color='r', alpha=0.5)"
   ]
  },
  {
   "cell_type": "code",
   "execution_count": 63,
   "metadata": {},
   "outputs": [
    {
     "data": {
      "text/plain": [
       "{'1.DecisionTreeRegressor': 0.7418329240151066,\n",
       " '2.LinearRegression': 1.3528964524540351e-30}"
      ]
     },
     "execution_count": 63,
     "metadata": {},
     "output_type": "execute_result"
    }
   ],
   "source": [
    "run_experiment([DecisionTreeRegressor(), LinearRegression()],\n",
    "               generate_linear_regression,\n",
    "               {'x_grid': np.linspace(0, 10, 1000), 'noise': 0},\n",
    "               'neg_mean_squared_error'\n",
    "              )"
   ]
  },
  {
   "cell_type": "code",
   "execution_count": null,
   "metadata": {},
   "outputs": [],
   "source": []
  },
  {
   "cell_type": "code",
   "execution_count": null,
   "metadata": {},
   "outputs": [],
   "source": []
  },
  {
   "cell_type": "code",
   "execution_count": null,
   "metadata": {},
   "outputs": [],
   "source": []
  },
  {
   "cell_type": "code",
   "execution_count": null,
   "metadata": {},
   "outputs": [],
   "source": []
  }
 ],
 "metadata": {
  "kernelspec": {
   "display_name": "Python 3",
   "language": "python",
   "name": "python3"
  },
  "language_info": {
   "codemirror_mode": {
    "name": "ipython",
    "version": 3
   },
   "file_extension": ".py",
   "mimetype": "text/x-python",
   "name": "python",
   "nbconvert_exporter": "python",
   "pygments_lexer": "ipython3",
   "version": "3.6.5"
  },
  "widgets": {
   "state": {},
   "version": "1.1.2"
  }
 },
 "nbformat": 4,
 "nbformat_minor": 2
}
